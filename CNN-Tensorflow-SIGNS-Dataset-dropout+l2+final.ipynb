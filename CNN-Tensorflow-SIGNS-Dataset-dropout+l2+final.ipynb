{
 "cells": [
  {
   "cell_type": "markdown",
   "metadata": {},
   "source": [
    "### Using Python version 3.6 and Tensorflow version 1.7"
   ]
  },
  {
   "cell_type": "code",
   "execution_count": 1,
   "metadata": {},
   "outputs": [
    {
     "name": "stderr",
     "output_type": "stream",
     "text": [
      "/Users/meenakshiparyani/anaconda/envs/py36/lib/python3.6/site-packages/h5py/__init__.py:36: FutureWarning: Conversion of the second argument of issubdtype from `float` to `np.floating` is deprecated. In future, it will be treated as `np.float64 == np.dtype(float).type`.\n",
      "  from ._conv import register_converters as _register_converters\n"
     ]
    }
   ],
   "source": [
    "# Imports\n",
    "import numpy as np\n",
    "import matplotlib.pyplot as plt\n",
    "import tensorflow as tf\n",
    "tf.set_random_seed(10)\n",
    "np.random.seed(5)\n",
    "import time\n",
    "import sys\n",
    "import warnings\n",
    "warnings.filterwarnings(\"ignore\")\n",
    "tf.logging.set_verbosity(tf.logging.ERROR)"
   ]
  },
  {
   "cell_type": "markdown",
   "metadata": {},
   "source": [
    "### 1. (10pts) Define functions"
   ]
  },
  {
   "cell_type": "code",
   "execution_count": 2,
   "metadata": {},
   "outputs": [],
   "source": [
    "# One hot encode the labels\n",
    "def one_hot_encode(y):\n",
    "    targets = np.array(np.unique(y)).reshape(-1)\n",
    "    enc = np.eye(len(targets))[y]\n",
    "    return enc\n",
    "\n",
    "#Get the accuracy of the results\n",
    "def get_accuracy(y, y_pred):\n",
    "    y = tf.nn.softmax(y)\n",
    "    y_pred = tf.nn.softmax(y_pred)\n",
    "    labels_equal = tf.equal(y, y_pred)\n",
    "    accuracy = tf.reduce_mean(tf.cast(labels_equal, 'float'))\n",
    "    return accuracy\n",
    "\n",
    "# Get the cost of iteration\n",
    "def get_cost(y, y_pred):\n",
    "    cost = tf.reduce_mean(tf.nn.softmax_cross_entropy_with_logits(logits=y_pred, labels=y))\n",
    "    return cost\n",
    "\n",
    "def plotCostHistory(cost_history):\n",
    "     plt.plot(cost_history)\n",
    "     plt.ylabel('Cost');\n",
    "     plt.xlabel('Iterations');\n",
    "     plt.title('Cost Progression with Iterations')\n",
    "     plt.show()\n",
    "\n",
    "def extract_parameters(hyper_params, key):\n",
    "    hyper_param = hyper_params[key]\n",
    "    pad = hyper_param[\"pad\"]\n",
    "    f = hyper_param[\"f\"]\n",
    "    stride = hyper_param[\"stride\"]\n",
    "    filters = hyper_param[\"channels\"]\n",
    "    #a_prev = tf.pad(a_prev, [[0, 0], [pad, pad], [pad, pad], [0, 0]], \"CONSTANT\")\n",
    "    return pad, f, stride, filters\n",
    "\n",
    "# Flatten the array\n",
    "def flatten(A):\n",
    "    return tf.layers.flatten(A)\n",
    "\n",
    "# Forward propagation to calculate yHat\n",
    "def forward_propagate_lenet5(x, hyper_params, keep_prob, lamda):\n",
    "\n",
    "    # Layer 1 Convolution \n",
    "    pad_c1, f_c1, stride_c1, filters_out_c1 =  extract_parameters(hyper_params, \"c1\")\n",
    "    a1_c = tf.layers.conv2d(inputs=x, filters=filters_out_c1, kernel_size=[f_c1,f_c1],strides=stride_c1, \n",
    "    kernel_initializer=tf.contrib.layers.xavier_initializer(seed = 1), kernel_regularizer=tf.contrib.layers.l2_regularizer(lamda), bias_initializer=tf.zeros_initializer(), \n",
    "                            padding='same',activation=tf.nn.relu) # Relu Activation\n",
    "    a1_c = tf.nn.dropout(a1_c, keep_prob, seed=2)\n",
    "    \n",
    "    #print(a1_c)\n",
    "    \n",
    "    # Layer 1 Pooling \n",
    "    pad_p1, f_p1, stride_p1, filters_out_p1 =  extract_parameters(hyper_params, \"p1\")\n",
    "    a1_p = tf.layers.max_pooling2d(inputs = a1_c,pool_size=[f_p1,f_p1], strides=stride_p1)\n",
    "    #print(a1_p)\n",
    "    a1_p = tf.nn.dropout(a1_p, keep_prob, seed=2)\n",
    " \n",
    "    # Layer 2 Convolution \n",
    "    \n",
    "    pad_c2, f_c2, stride_c2, filters_out_c2 =  extract_parameters(hyper_params, \"c2\")\n",
    "    a2_c = tf.layers.conv2d(inputs = a1_p, filters=filters_out_c2, kernel_size=[f_c2,f_c2],\n",
    "           kernel_initializer=tf.contrib.layers.xavier_initializer(seed = 1), kernel_regularizer=tf.contrib.layers.l2_regularizer(lamda), bias_initializer=tf.zeros_initializer(), \n",
    "                    strides=stride_c2, padding='valid' , activation=tf.nn.relu) # Relu Activation\n",
    "    #print(a2_c)\n",
    "    a2_c = tf.nn.dropout(a2_c, keep_prob, seed=2)\n",
    "    \n",
    "    # Layer 2 Pooling \n",
    "    pad_p2, f_p2, stride_p2, filters_out_p2 =  extract_parameters(hyper_params, \"p2\")\n",
    "    a2_p = tf.layers.average_pooling2d(inputs = a2_c, pool_size=[f_p2,f_p2], strides=stride_p2)\n",
    "    a2_p = tf.nn.dropout(a2_p, keep_prob, seed=2)\n",
    "    \n",
    "    #print(a2_p)\n",
    "    # Flatten the array\n",
    "    a3 = flatten(a2_p)\n",
    "    #print(a3)\n",
    "    \n",
    "\n",
    "    # Fully Connected Layer 4\n",
    "    fc1_size = hyper_params[\"4\"][\"size\"]\n",
    "    a4 = tf.layers.dense(inputs = a3, units=fc1_size, activation=tf.nn.relu, kernel_initializer=tf.contrib.layers.xavier_initializer(seed = 1))\n",
    "    a4 = tf.nn.dropout(a4, keep_prob, seed=2)\n",
    "    #print(a4)\n",
    "    \n",
    "    \n",
    "    # Fully Connected Layer 5\n",
    "    fc2_size = hyper_params[\"5\"][\"size\"]\n",
    "    a5 = tf.layers.dense(inputs = a4, units=fc2_size, activation=tf.nn.sigmoid, kernel_initializer=tf.contrib.layers.xavier_initializer(seed = 1))\n",
    "    #print(a5)\n",
    "    return a5"
   ]
  },
  {
   "cell_type": "markdown",
   "metadata": {},
   "source": [
    "### 2. Load data"
   ]
  },
  {
   "cell_type": "code",
   "execution_count": 3,
   "metadata": {
    "scrolled": false
   },
   "outputs": [
    {
     "data": {
      "image/png": "[encoded data removed]",
      "text/plain": [
       "<matplotlib.figure.Figure at 0x181cfb0390>"
      ]
     },
     "metadata": {},
     "output_type": "display_data"
    },
    {
     "name": "stdout",
     "output_type": "stream",
     "text": [
      "Digit in the image is 4\n",
      "(180, 64, 64, 3)\n",
      "(1020, 64, 64, 3)\n",
      "(1020, 6)\n",
      "(180, 6)\n"
     ]
    }
   ],
   "source": [
    "# Load Training Data\n",
    "X_train = np.load('exam2_train_x.npy')\n",
    "y_train = np.load('exam2_train_y.npy')\n",
    "indx = 2\n",
    "plt.imshow(X_train[indx])\n",
    "plt.show()\n",
    "print(\"Digit in the image is \" + str(y_train[indx]))\n",
    "\n",
    "# Normalize the training data\n",
    "X_train_norm = (X_train/255.0) - 0.5\n",
    "y_train_encoded = one_hot_encode(y_train)\n",
    "\n",
    "# Load testing Data\n",
    "X_test = np.load('exam2_test_x.npy')\n",
    "y_test = np.load('exam2_test_y.npy')\n",
    "\n",
    "# Normalize the test data\n",
    "X_test_norm = (X_test/255.0) - 0.5\n",
    "y_test_encoded = one_hot_encode(y_test)\n",
    "print(X_test_norm.shape)\n",
    "print(X_train_norm.shape)\n",
    "\n",
    "print(y_train_encoded.shape)\n",
    "print(y_test_encoded.shape)\n",
    "\n"
   ]
  },
  {
   "cell_type": "markdown",
   "metadata": {},
   "source": [
    "### 3. (10pts) Initialize parameters (Weights, bias for each layer)"
   ]
  },
  {
   "cell_type": "code",
   "execution_count": 4,
   "metadata": {},
   "outputs": [],
   "source": [
    "def initialize_hyper_params():\n",
    "    \n",
    "    hyper_params = {}\n",
    "    \n",
    "    # Convolution Layer 1 Hyper Parameters\n",
    "    hyper_params_c1 = {}\n",
    "    hyper_params_c1[\"stride\"] = 2\n",
    "    hyper_params_c1[\"pad\"] = 1\n",
    "    hyper_params_c1[\"f\"] = 4\n",
    "    hyper_params_c1[\"channels\"] = 8\n",
    "    \n",
    "    # Pooling Layer 1 Hyper Parameters\n",
    "    hyper_params_p1 = {}\n",
    "    hyper_params_p1[\"stride\"] = 1\n",
    "    hyper_params_p1[\"pad\"] = 0\n",
    "    hyper_params_p1[\"f\"] = 5\n",
    "    hyper_params_p1[\"channels\"] = 8\n",
    "    \n",
    "    # Convolution Layer 2 Hyper Parameters\n",
    "    hyper_params_c2 = {}\n",
    "    hyper_params_c2[\"stride\"] = 2\n",
    "    hyper_params_c2[\"pad\"] = 0\n",
    "    hyper_params_c2[\"f\"] = 4\n",
    "    hyper_params_c2[\"channels\"] = 16\n",
    "    \n",
    "    # Pooling Layer 2 Hyper Parameters\n",
    "    hyper_params_p2 = {}\n",
    "    hyper_params_p2[\"stride\"] = 1\n",
    "    hyper_params_p2[\"pad\"] = 0\n",
    "    hyper_params_p2[\"f\"] = 5\n",
    "    hyper_params_p2[\"channels\"] = 16\n",
    "    \n",
    "    hyper_params_4 = {}\n",
    "    hyper_params_4[\"size\"] = 108\n",
    "            \n",
    "    hyper_params_5 = {}\n",
    "    hyper_params_5[\"size\"] = 6\n",
    "    \n",
    "    hyper_params[\"c1\"] = hyper_params_c1\n",
    "    hyper_params[\"p1\"] = hyper_params_p1\n",
    "    \n",
    "    hyper_params[\"c2\"] = hyper_params_c2\n",
    "    hyper_params[\"p2\"] = hyper_params_p2\n",
    "    \n",
    "    hyper_params[\"4\"] = hyper_params_4\n",
    "    hyper_params[\"5\"] = hyper_params_5\n",
    "    \n",
    "    return hyper_params"
   ]
  },
  {
   "cell_type": "markdown",
   "metadata": {},
   "source": [
    "### 4. (40pts) Build Convolution Neural Network model"
   ]
  },
  {
   "cell_type": "code",
   "execution_count": 5,
   "metadata": {
    "scrolled": false
   },
   "outputs": [],
   "source": [
    "def train_cnn_lenet5(epochs, X_train, y_train, X_test, y_test, learning_rate, keep_prob, lamda):\n",
    "    tf.reset_default_graph()\n",
    "    (m, nH, nW, nC) = X_train.shape\n",
    "    x = tf.placeholder(tf.float32, [None, nH, nW, nC])\n",
    "    y = tf.placeholder(tf.float32)\n",
    "    hyper_params = initialize_hyper_params()\n",
    "    y_pred = forward_propagate_lenet5(x, hyper_params, keep_prob, lamda)\n",
    "    cost = get_cost(y, y_pred)\n",
    "    \n",
    "    # The AdamOptimizer is used to optimize the cost\n",
    "    optimizer = tf.train.AdamOptimizer(learning_rate=learning_rate).minimize(cost) \n",
    "    init = tf.global_variables_initializer()\n",
    "    correctness = tf.equal(tf.argmax(y_pred,1), tf.argmax(y,1)) # Softmax Predictions\n",
    "    accuracy = tf.reduce_mean(tf.cast(correctness, 'float'))\n",
    "    cost_history = []\n",
    "    max_test_acc = 0\n",
    "    max_iter = 0\n",
    "    train_acc = 0\n",
    "    test_acc = 0\n",
    "    old_cost = sys.maxsize\n",
    "    new_cost = sys.maxsize\n",
    "    with tf.Session() as sess:\n",
    "        sess.run(init)\n",
    "        start_time = time.time() \n",
    "        for epoch in range(epochs+1):\n",
    "            old_cost = new_cost\n",
    "            temp, epoch_cost = sess.run([optimizer, cost], feed_dict={x:X_train, y:y_train})\n",
    "            new_cost = epoch_cost\n",
    "            cost_history.append(epoch_cost)\n",
    "            if(abs(old_cost - new_cost) < 0.00000000001):\n",
    "                print(\"breaking\" + str(old_cost) + str(new_cost))\n",
    "                break;\n",
    "            train_acc = accuracy.eval({x:X_train, y:y_train}) * 100\n",
    "            test_acc = accuracy.eval({x:X_test, y:y_test}) * 100\n",
    "            if(epoch % 20 == 0):\n",
    "                print('Cost is ' + str(epoch_cost) + ' for iteration: ' + str(epoch))\n",
    "        plotCostHistory(cost_history)\n",
    "        print('Train Accuracy: ', train_acc)\n",
    "        print('Test Accuracy: ' ,test_acc)\n",
    "        print('Learning rate: ' , learning_rate)\n",
    "        print('Keep probability: ' , keep_prob)\n",
    "        print('L2 Regularizer lambda: ', lamda)\n",
    "        elapsed_time = time.time() - start_time\n",
    "        print(\"\\nTime elapsed : \" , float(elapsed_time/60))\n",
    "        return train_acc, test_acc"
   ]
  },
  {
   "cell_type": "markdown",
   "metadata": {},
   "source": [
    "### 5. (20pts) Optimization of Convolution Neural Network model"
   ]
  },
  {
   "cell_type": "code",
   "execution_count": 6,
   "metadata": {
    "scrolled": false
   },
   "outputs": [
    {
     "name": "stdout",
     "output_type": "stream",
     "text": [
      "Cost is 1.7920785 for iteration: 0\n",
      "Cost is 1.3778673 for iteration: 20\n",
      "Cost is 1.2812387 for iteration: 40\n",
      "Cost is 1.2120475 for iteration: 60\n",
      "Cost is 1.1689222 for iteration: 80\n",
      "Cost is 1.1456516 for iteration: 100\n",
      "Cost is 1.1214306 for iteration: 120\n",
      "Cost is 1.1066836 for iteration: 140\n",
      "Cost is 1.0972525 for iteration: 160\n",
      "Cost is 1.0876019 for iteration: 180\n",
      "Cost is 1.0712985 for iteration: 200\n",
      "Cost is 1.0752808 for iteration: 220\n",
      "Cost is 1.0651174 for iteration: 240\n",
      "Cost is 1.0662962 for iteration: 260\n",
      "Cost is 1.0666366 for iteration: 280\n",
      "Cost is 1.0664647 for iteration: 300\n",
      "Cost is 1.0675997 for iteration: 320\n",
      "Cost is 1.060471 for iteration: 340\n",
      "Cost is 1.0625565 for iteration: 360\n",
      "Cost is 1.06039 for iteration: 380\n",
      "Cost is 1.0560253 for iteration: 400\n",
      "Cost is 1.053233 for iteration: 420\n",
      "Cost is 1.0584716 for iteration: 440\n",
      "Cost is 1.0561886 for iteration: 460\n"
     ]
    },
    {
     "data": {
      "image/png": "[encoded data removed]",
      "text/plain": [
       "<matplotlib.figure.Figure at 0x1a27370ba8>"
      ]
     },
     "metadata": {},
     "output_type": "display_data"
    },
    {
     "name": "stdout",
     "output_type": "stream",
     "text": [
      "Train Accuracy:  99.21568632125854\n",
      "Test Accuracy:  97.77777791023254\n",
      "Learning rate:  0.012\n",
      "Keep probability:  0.75\n",
      "L2 Regularizer lambda:  10.0\n",
      "\n",
      "Time elapsed :  10.801599570115407\n"
     ]
    }
   ],
   "source": [
    "for learning_rate in [0.012]:\n",
    "    for keep_prob in [0.75]:\n",
    "        for lam in [10.0]:\n",
    "            #print(\"**********Learning rate******{}********Keep prob***********{}****lamda {}\".format(learning_rate, keep_prob, lam))\n",
    "            train_cnn_lenet5(461, X_train_norm, y_train_encoded, X_test_norm, y_test_encoded, learning_rate, keep_prob, lam)"
   ]
  },
  {
   "cell_type": "markdown",
   "metadata": {},
   "source": [
    "### Architecture that acheived best accuracy"
   ]
  },
  {
   "cell_type": "markdown",
   "metadata": {},
   "source": [
    "| Layer Number |\tLayer Type |\tLayer Size | Channels | Kernel Size\t| Stride |\tPadding\t| Function | Regularization| Lambda | Keep prob| Kernel Initializer\n",
    "|-------|--------------------|-----|---|-------|---|---|---|---|---|---|\n",
    "|0 | Input | 64 X 64 | 3 | \n",
    "|1 | Convolution  | 32 X 32 | 8 | 4 X 4 | 2 | 1 | Relu | L2 | 10 | | Xavier\n",
    "|1 | Pooling (P1)| 28 X 28 | 8 | 5 X 5 | 1 | 0 | Max | Dropout |  | 0.75\n",
    "|2 | Convolution (C2) | 13 X 13 | 16 | 4 X 4 | 2 | 0 | Relu | L2 | 10 |  | Xavier\n",
    "|2 | Pooling (P2)| 9 X 9 | 16 | 5 X 5 | 1 | 0 | Average | Dropout |  | 0.75\n",
    "|3 | Flatten (F3)| 1296 | \n",
    "|4 | Fully connected Layer 4 (F4)| 108 | |  |  |  | Relu | Dropout |  | 0.75 | Xavier\n",
    "|5 | Fully connected Layer 5 (F5)| 6 | |  |  |  | Sigmoid | Dropout |  | 0.75 | Xavier"
   ]
  },
  {
   "cell_type": "markdown",
   "metadata": {},
   "source": [
    "### Major Observations \n",
    "1. Accuracy reduced as kernel size was reduced\n",
    "2. Accuracy improved significantly after adding dropout for each layer except output layer"
   ]
  },
  {
   "cell_type": "markdown",
   "metadata": {},
   "source": [
    "\n",
    "\n",
    "|Architecture|\tConv 1 Regularizer|\tConv/Pooling Kernel size| Pooling 1 Regularizer| Conv 2 Regularizer\t|Pooling 2 Regularizer|\tFC1 Initializer\t|FC2 Initializer | Max Test Accuracy\n",
    "|---|--------|---|---|---|---|---|---|---|---|--|\n",
    "|Lenet5|\tNone|\t2 / 2|\tNone|\tNone|\tNone|\tNone|\tNone|\t88%|\n",
    "|Lenet5| \tNone|\t2 / 2|\tNone|\tNone|\tNone|\tXavier|\tXavier|\t93.86 %|\n",
    "|Lenet5|\tNone|\t4 / 5|\tDropout|\tNone|\tDroput|\tXavier|\tXavier|\t96.11 %\n",
    "|Lenet5|\tL2\t|   4 / 5|\tNone|\tL2\t|   None\t|Xavier\t|Xavier\t|92 %\n",
    "|Lenet5|\tL2\t|   4 / 5|\tDropout|L2|\tDropout\t|Xavier\t|Xavier\t|97.77 %\n"
   ]
  }
 ],
 "metadata": {
  "kernelspec": {
   "display_name": "Python 3",
   "language": "python",
   "name": "python3"
  },
  "language_info": {
   "codemirror_mode": {
    "name": "ipython",
    "version": 3
   },
   "file_extension": ".py",
   "mimetype": "text/x-python",
   "name": "python",
   "nbconvert_exporter": "python",
   "pygments_lexer": "ipython3",
   "version": "3.6.4"
  }
 },
 "nbformat": 4,
 "nbformat_minor": 2
}
